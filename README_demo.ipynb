{
  "cells": [
    {
      "cell_type": "markdown",
      "metadata": {},
      "source": [
        "# WFGY one-click Colab demo\n",
        "Clone → install wheels."
      ]
    },
    {
      "cell_type": "code",
      "execution_count": null,
      "metadata": {},
      "outputs": [],
      "source": [
        "%%bash\n",
        "set -e\n",
        "echo \"📦 install wheels (quiet)\"\n",
        "python -m pip install -q --progress-bar off \"numpy<2.0\" torch==2.2.2 transformers==4.41.2 matplotlib sentence-transformers==4.1.0 tabulate\n",
        "\n",
        "echo \"📥 clone repo\"\n",
        "rm -rf WFGY\n",
        "git clone -q --depth 1 https://github.com/onestardao/WFGY.git\n",
        "\n",
        "echo \"🔧 install sdk (editable)\"\n",
        "python -m pip install -q --progress-bar off -e WFGY --no-deps\n",
        "\n",
        "echo \"🚀 run examples\"\n",
        "python WFGY/examples/example_07_flash_show.py"
      ]
    },
    {
      "cell_type": "markdown",
      "metadata": {},
      "source": [
      ]
    }
  ],
  "metadata": {
    "kernelspec": {
      "display_name": "Python 3",
      "language": "python",
      "name": "python3"
    },
    "language_info": {
      "name": "python"
    }
  },
  "nbformat": 4,
  "nbformat_minor": 0
}
