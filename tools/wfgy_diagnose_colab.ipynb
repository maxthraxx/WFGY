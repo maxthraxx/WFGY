{
 "cells": [
  {
   "cell_type": "markdown",
   "metadata": {},
   "source": [
    "# 🧪 WFGY Diagnostic Notebook (v0.2)\n",
    "**Minimal sandbox to measure ΔS and spot common reasoning failures (Problem Map v1.0).**  \n",
    "Runs entirely in Colab — no API key, no local install."
   ]
  },
  {
   "cell_type": "markdown",
   "metadata": {},
   "source": [
    "## 📐 Core formula\n",
    "$$\\Delta S \\;=\\; 1 - \\cos\\theta\\,\\bigl(I,\\,G\\bigr) \\qquad \\bigl(I,\\,G \\in \\mathbb R^{1536}\\bigr)$$\n",
    "*$I$ = current-step embedding,  $G$ = ground-truth / prompt embedding.*  \n",
    "Higher ΔS ⇒ larger semantic drift ⇒ higher chance of collapse."
   ]
  },
  {
   "cell_type": "markdown",
   "metadata": {},
   "source": [
    "## ▶️ Quick Start\n",
    "1. **Run all** cells (≃ 40 s).  \n",
    "2. Click **Run demo** or paste your own prompt / answer.  \n",
    "3. Get ΔS, failure type, and suggested WFGY fix."
   ]
  },
  {
   "cell_type": "code",
   "metadata": {
    "id": "install"
   },
   "source": [
    "!pip -q install sentence-transformers ipywidgets --upgrade"
   ],
   "execution_count": null,
   "outputs": []
  },
  {
   "cell_type": "code",
   "metadata": {
    "id": "imports"
   },
   "source": [
    "from sentence_transformers import SentenceTransformer, util\n",
    "from ipywidgets import Textarea, Button, VBox, HBox, Layout, Output\n",
    "import math, textwrap, IPython.display as disp"
   ],
   "execution_count": null,
   "outputs": []
  },
  {
   "cell_type": "code",
   "metadata": {
    "id": "model"
   },
   "source": [
    "model = SentenceTransformer('all-MiniLM-L6-v2')  # small & fast"
   ],
   "execution_count": null,
   "outputs": []
  },
  {
   "cell_type": "code",
   "metadata": {
    "id": "helpers"
   },
   "source": [
    "def delta_s(a_vec, b_vec):\n",
    "    cos_sim = util.cos_sim(a_vec, b_vec).item()\n",
    "    return 1 - cos_sim\n",
    "\n",
    "def classify_failure(dS):\n",
    "    if dS > 0.80:\n",
    "        return ('No.1 Hallucination / Chunk Drift', 'Apply BBMC + boundary check')\n",
    "    if dS > 0.60:\n",
    "        return ('No.2 Interpretation Collapse', 'Insert λ_observe checkpoint')\n",
    "    if dS > 0.40:\n",
    "        return ('No.6 Logic Collapse', 'Trigger BBCR fallback')\n",
    "    if dS > 0.25:\n",
    "        return ('No.9 Entropy Collapse', 'Use BBAM attention modulation')\n",
    "    return ('Stable (ΔS ≤ 0.25)', 'No action — pass')"
   ],
   "execution_count": null,
   "outputs": []
  },
  {
   "cell_type": "code",
   "metadata": {
    "id": "ui"
   },
   "source": [
    "demo_prompt = \"### Product Review\\nThe new phone has a crystal-clear display and fast charging…\"\n",
    "demo_answer = \"The capital of France is Paris. Also, your phone seems great!\"\n",
    "\n",
    "p_box = Textarea(value=demo_prompt, placeholder='Paste prompt / context', description='Prompt', layout=Layout(width='100%', height='100px'))\n",
    "a_box = Textarea(value=demo_answer, placeholder='Paste LLM answer', description='Answer', layout=Layout(width='100%', height='100px'))\n",
    "out = Output()\n",
    "\n",
    "btn = Button(description='Run diagnostic', button_style='primary', tooltip='Compute ΔS & classify failure')\n",
    "\n",
    "def on_click(b):\n",
    "    out.clear_output()\n",
    "    with out:\n",
    "        p_vec = model.encode(p_box.value, convert_to_tensor=True)\n",
    "        a_vec = model.encode(a_box.value, convert_to_tensor=True)\n",
    "        dS = delta_s(p_vec, a_vec)\n",
    "        failure, fix = classify_failure(dS)\n",
    "        print('ΔS :', f'{dS:.3f}')\n",
    "        print('Failure detected :', failure)\n",
    "        print('Suggested fix   :', fix)\n",
    "\n",
    "btn.on_click(on_click)\n",
    "disp.display(VBox([p_box, a_box, btn, out]))"
   ],
   "execution_count": null,
   "outputs": []
  },
  {
   "cell_type": "markdown",
   "metadata": {},
   "source": [
    "---\n",
    "### Next Steps\n",
    "* Explore the full 16-type **Problem Map 1.0** and the RAG-focused **Problem Map 2.0**.  \n",
    "* Read about λ_observe, E_resonance, BBCR in the **WFGY 1.0 paper**.  \n",
    "* Fork this notebook, plug in your embeddings or extend the rules — it’s MIT-licensed.\n",
    "\n",
    "> Repo → https://github.com/onestardao/WFGY"
   ]
  }
 ],
 "metadata": {
  "kernelspec": {
   "display_name": "Python 3",
   "language": "python",
   "name": "python3"
  },
  "language_info": {
   "name": "python"
  }
 },
 "nbformat": 4,
 "nbformat_minor": 5
}
