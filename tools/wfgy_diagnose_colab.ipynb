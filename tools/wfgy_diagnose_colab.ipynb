{
 "cells": [
  {
   "cell_type": "markdown",
   "metadata": {},
   "source": [
    "# 🧪 WFGY Diagnostic Notebook (v0.1)  \n",
    "**Minimal sandbox to measure ΔS and spot common reasoning failures (Problem Map v1.0).**  \n",
    "No API key required — runs locally in Colab using open-source sentence embeddings."
   ]
  },
  {
   "cell_type": "markdown",
   "metadata": {},
   "source": [
    "## Quick Start\n",
    "1. ▶️ Run *all* cells (takes ~30 s on Colab free tier).  \n",
    "2. Paste your **prompt / context** and the **LLM answer** when asked.  \n",
    "3. Get ΔS, a basic failure classification, and a suggested WFGY fix.\n",
    "\n",
    "> **Disclaimer**: This is a minimal demo. Full WFGY uses ΔS + λ_observe + E_resonance and 16 failure modes. "
   ]
  },
  {
   "cell_type": "code",
   "metadata": {
    "id": "install"
   },
   "source": [
    "!pip install -q sentence-transformers"
   ],
   "execution_count": null,
   "outputs": []
  },
  {
   "cell_type": "code",
   "metadata": {
    "id": "imports"
   },
   "source": [
    "from sentence_transformers import SentenceTransformer, util\n",
    "import math, textwrap"
   ],
   "execution_count": null,
   "outputs": []
  },
  {
   "cell_type": "code",
   "metadata": {
    "id": "load_model"
   },
   "source": [
    "# lightweight model for quick demo\n",
    "model = SentenceTransformer('all-MiniLM-L6-v2')"
   ],
   "execution_count": null,
   "outputs": []
  },
  {
   "cell_type": "code",
   "metadata": {
    "id": "helpers"
   },
   "source": [
    "def delta_s(a_vec, b_vec):\n",
    "    \"\"\"ΔS = 1 – cosine_similarity.\"\"\"\n",
    "    cos_sim = util.cos_sim(a_vec, b_vec).item()\n",
    "    return 1 - cos_sim\n",
    "\n",
    "def classify_failure(dS):\n",
    "    \"\"\"Very simple rule-based mapping (extend as needed).\"\"\"\n",
    "    if dS > 0.80:\n",
    "        return ('No.1  Hallucination / Chunk Drift', 'Use BBMC + boundary check')\n",
    "    if dS > 0.60:\n",
    "        return ('No.2  Interpretation Collapse', 'Insert λ_observe checkpoint')\n",
    "    if dS > 0.40:\n",
    "        return ('No.6  Logic Collapse', 'Trigger BBCR fallback')\n",
    "    if dS > 0.25:\n",
    "        return ('No.9  Entropy Collapse', 'Apply BBAM attention modulation')\n",
    "    return ('Looks stable (ΔS ≤ 0.25)', 'No action — pass')"
   ],
   "execution_count": null,
   "outputs": []
  },
  {
   "cell_type": "code",
   "metadata": {
    "id": "user_input"
   },
   "source": [
    "prompt = input(\"Paste your prompt / context →\\n\\n\")\n",
    "answer = input(\"Paste the LLM answer →\\n\\n\")"
   ],
   "execution_count": null,
   "outputs": []
  },
  {
   "cell_type": "code",
   "metadata": {
    "id": "run_diag"
   },
   "source": [
    "# encode\n",
    "p_vec = model.encode(prompt, convert_to_tensor=True)\n",
    "a_vec = model.encode(answer, convert_to_tensor=True)\n",
    "\n",
    "# compute ΔS & classify\n",
    "dS = delta_s(p_vec, a_vec)\n",
    "failure, fix = classify_failure(dS)\n",
    "\n",
    "print(\"\\n================  RESULTS  ================\")\n",
    "print(f\"ΔS (semantic tension) : {dS:.3f}\")\n",
    "print(f\"Detected              : {failure}\")\n",
    "print(f\"Suggested fix         : {fix}\")"
   ],
   "execution_count": null,
   "outputs": []
  },
  {
   "cell_type": "markdown",
   "metadata": {},
   "source": [
    "---\n",
    "### Next Steps  \n",
    "• For the full 16-type Problem Map, see the main README.  \n",
    "• To understand ΔS, λ_observe, E_resonance, check the WFGY 1.0 paper.  \n",
    "• Feel free to fork this notebook and extend the rules or plug in your own embedding model.  \n",
    "\n",
    "> 📎 Repo: https://github.com/onestardao/WFGY"
   ]
  }
 ],
 "metadata": {
  "kernelspec": {
   "display_name": "Python 3",
   "language": "python",
   "name": "python3"
  },
  "language_info": {
   "name": "python",
   "version": ""
  }
 },
 "nbformat": 4,
 "nbformat_minor": 5
}
