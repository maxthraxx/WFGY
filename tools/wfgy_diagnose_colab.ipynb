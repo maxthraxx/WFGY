{
 "cells": [
  {
   "cell_type": "code",
   "metadata": { "id": "widget_enable" },
   "source": [
    "# Enable ipywidgets under Google Colab (safe-no-op elsewhere)\n",
    "from google.colab import output\n",
    "output.enable_custom_widget_manager()"
   ],
   "execution_count": null,
   "outputs": []
  },
  {
   "cell_type": "markdown",
   "metadata": {},
   "source": [
    "# 🧪 WFGY Diagnostic Notebook (v0.4)\n",
    "**Minimal sandbox to measure ΔS and spot common reasoning failures**  \n",
    "Runs in Colab or any Jupyter environment — no API key required."
   ]
  },
  {
   "cell_type": "markdown",
   "metadata": {},
   "source": [
    "## 📐 Core formula\n",
    "$$\\Delta S = 1 - \\cos\\theta\\bigl(I, G\\bigr) \\qquad \\bigl(I, G \\in \\mathbb R^{1536}\\bigr)$$\n",
    "*$I$ = current-step embedding,  $G$ = ground-truth / prompt embedding.*  \n",
    "Higher ΔS ⇒ larger semantic drift ⇒ higher risk of collapse."
   ]
  },
  {
   "cell_type": "code",
   "metadata": { "id": "install" },
   "source": [
    "!pip -q install sentence-transformers ipywidgets --upgrade"
   ],
   "execution_count": null,
   "outputs": []
  },
  {
   "cell_type": "code",
   "metadata": { "id": "imports" },
   "source": [
    "from sentence_transformers import SentenceTransformer, util\n",
    "from ipywidgets import Textarea, Button, VBox, Layout, Output\n",
    "import sys"
   ],
   "execution_count": null,
   "outputs": []
  },
  {
   "cell_type": "code",
   "metadata": { "id": "model" },
   "source": [
    "model = SentenceTransformer('all-MiniLM-L6-v2')  # small & fast"
   ],
   "execution_count": null,
   "outputs": []
  },
  {
   "cell_type": "code",
   "metadata": { "id": "helpers" },
   "source": [
    "def delta_s(a_vec, b_vec):\n",
    "    \"\"\"ΔS = 1 – cosine_similarity\"\"\"\n",
    "    return 1 - util.cos_sim(a_vec, b_vec).item()\n",
    "\n",
    "def classify_failure(dS):\n",
    "    if dS > 0.80:\n",
    "        return ('No.1 Hallucination / Chunk Drift', 'Apply BBMC + boundary check')\n",
    "    if dS > 0.60:\n",
    "        return ('No.2 Interpretation Collapse', 'Insert λ_observe checkpoint')\n",
    "    if dS > 0.40:\n",
    "        return ('No.6 Logic Collapse', 'Trigger BBCR fallback')\n",
    "    if dS > 0.25:\n",
    "        return ('No.9 Entropy Collapse', 'Use BBAM attention modulation')\n",
    "    return ('Stable (ΔS ≤ 0.25)', 'No action — pass')"
   ],
   "execution_count": null,
   "outputs": []
  },
  {
   "cell_type": "code",
   "metadata": { "id": "ui_or_cli" },
   "source": [
    "# --- Auto-detect widget support ---\n",
    "try:\n",
    "    import ipywidgets as _w; _ = _w.Button()\n",
    "    _widget_ok = True\n",
    "except Exception:\n",
    "    _widget_ok = False\n",
    "\n",
    "USE_WIDGETS = _widget_ok and ('google.colab' in sys.modules)\n",
    "\n",
    "if USE_WIDGETS:\n",
    "    demo_prompt = \"### Product Review\\nThe new phone has a crystal-clear display and fast charging…\"\n",
    "    demo_answer = \"The capital of France is Paris. Also, your phone seems great!\"\n",
    "\n",
    "    p_box = Textarea(value=demo_prompt, description='Prompt', layout=Layout(width='100%', height='120px'))\n",
    "    a_box = Textarea(value=demo_answer, description='Answer', layout=Layout(width='100%', height='120px'))\n",
    "    out   = Output()\n",
    "\n",
    "    def run_diag(_):\n",
    "        out.clear_output()\n",
    "        with out:\n",
    "            dS = delta_s(model.encode(p_box.value, convert_to_tensor=True),\n",
    "                         model.encode(a_box.value, convert_to_tensor=True))\n",
    "            failure, fix = classify_failure(dS)\n",
    "            print(f\"ΔS : {dS:.3f}\")\n",
    "            print(\"Failure detected :\", failure)\n",
    "            print(\"Suggested fix    :\", fix)\n",
    "\n",
    "    btn = Button(description='Run diagnostic', button_style='primary')\n",
    "    btn.on_click(run_diag)\n",
    "    display(VBox([p_box, a_box, btn, out]))\n",
    "\n",
    "else:\n",
    "    print(\"Widget support disabled — fallback to CLI mode.\\n\")\n",
    "    prompt = input(\"Prompt:\\n\")\n",
    "    answer = input(\"\\nAnswer:\\n\")\n",
    "    dS = delta_s(model.encode(prompt, convert_to_tensor=True),\n",
    "                 model.encode(answer, convert_to_tensor=True))\n",
    "    failure, fix = classify_failure(dS)\n",
    "    print(\"\\nΔS :\", f\"{dS:.3f}\")\n",
    "    print(\"Failure detected :\", failure)\n",
    "    print(\"Suggested fix    :\", fix)"
   ],
   "execution_count": null,
   "outputs": []
  },
  {
   "cell_type": "markdown",
   "metadata": {},
   "source": [
    "---\n",
    "### Next Steps  \n",
    "* Explore the full **Problem Map 1.0** and RAG-focused **Problem Map 2.0**.  \n",
    "* Read about **λ_observe, E_resonance, BBCR** in the WFGY 1.0 paper.  \n",
    "* Fork this notebook, plug in your own embeddings, or extend the rules — MIT-licensed.  \n",
    "\n",
    "> Repo → https://github.com/onestardao/WFGY"
   ]
  }
 ],
 "metadata": {
  "kernelspec": { "display_name": "Python 3", "language": "python", "name": "python3" },
  "language_info": { "name": "python" }
 },
 "nbformat": 4,
 "nbformat_minor": 5
}
